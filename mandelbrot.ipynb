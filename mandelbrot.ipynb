{
 "cells": [
  {
   "cell_type": "markdown",
   "id": "287060e7",
   "metadata": {},
   "source": [
    "# 绘制 Mandelbrot 集\n",
    "\n",
    "[Mandelbrot 集合](https://en.wikipedia.org/wiki/Mandelbrot_set)是复平面上所有使得迭代序列 \n",
    "$$f_c(0),f_c(f_c(0)),f_c(f_c(f_c(0))),\\ldots,$$\n",
    "始终保持有界的那些复数 $c$ 组成的集合，其中 $f_c(z)=z^2+c$。\n",
    "\n",
    "为了绘制 Mandelbrot 集，我们可以将图像的每个像素对应到复平面上一点 $c$，然后计算上面序列的前若干项是否不超过一定的范围，并根据结果进行染色。"
   ]
  },
  {
   "cell_type": "code",
   "execution_count": null,
   "id": "8bfb823e",
   "metadata": {},
   "outputs": [],
   "source": [
    "import taichi as ti\n",
    "from taichi.math import cmul, dot, log2, vec2, vec3\n",
    "ti.init(arch=ti.cpu)\n",
    "\n",
    "width, height = 800, 640\n",
    "pixels = ti.Vector.field(3, float, shape=(width, height))\n",
    "\n",
    "@ti.func\n",
    "def setcolor(z, i):\n",
    "    v = log2(i + 1 - log2(log2(z.norm()))) / 5\n",
    "    col = vec3(0)\n",
    "    if v < 1.0:\n",
    "        col = vec3(v**4, v**2.5, v)\n",
    "    else:\n",
    "        v = ti.max(0., 2 - v)\n",
    "        col = vec3(v, v**1.5, v**3)\n",
    "    return col\n",
    "\n",
    "@ti.kernel\n",
    "def render():\n",
    "    for i, j in pixels:\n",
    "        c = 2.0 * vec2(i, j) / height - vec2(1.8, 1)\n",
    "        z = vec2(0)\n",
    "        count = 0\n",
    "        while count < 100 and dot(z, z) < 50:\n",
    "            z = cmul(z, z) + c\n",
    "            count += 1\n",
    "\n",
    "        if count == 100:\n",
    "            pixels[i, j] = [0, 0, 0]\n",
    "        else:\n",
    "            pixels[i, j] = setcolor(z, count)\n",
    "\n",
    "render()\n",
    "\n",
    "from PIL import Image\n",
    "import IPython\n",
    "\n",
    "img = Image.fromarray((255 * pixels.to_numpy()).astype('uint8')).transpose(Image.Transpose.TRANSPOSE)\n",
    "IPython.display.display(img)"
   ]
  }
 ],
 "metadata": {
  "kernelspec": {
   "display_name": "Python 3 (ipykernel)",
   "language": "python",
   "name": "python3"
  },
  "language_info": {
   "codemirror_mode": {
    "name": "ipython",
    "version": 3
   },
   "file_extension": ".py",
   "mimetype": "text/x-python",
   "name": "python",
   "nbconvert_exporter": "python",
   "pygments_lexer": "ipython3",
   "version": "3.8.10"
  }
 },
 "nbformat": 4,
 "nbformat_minor": 5
}
