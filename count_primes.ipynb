{
 "cells": [
  {
   "cell_type": "code",
   "execution_count": null,
   "id": "8bfb823e",
   "metadata": {},
   "outputs": [],
   "source": [
    "import time\n",
    "import taichi as ti\n",
    "ti.init(arch=ti.cpu)\n",
    "\n",
    "use_taichi = True  # set False to use native python\n",
    "\n",
    "\n",
    "def is_prime(n: int):\n",
    "    result = True\n",
    "    for k in range(2, int(n**0.5) + 1):\n",
    "        if n % k == 0:\n",
    "            result = False\n",
    "            break\n",
    "    return result\n",
    "\n",
    "def count_primes(n: int) -> int:\n",
    "    count = 0\n",
    "    for k in range(2, n):\n",
    "        if is_prime(k):\n",
    "            count += 1\n",
    "\n",
    "    return count\n",
    "\n",
    "\n",
    "if use_taichi:\n",
    "    is_prime = ti.func(is_prime)\n",
    "    count_primes = ti.kernel(count_primes)\n",
    "\n",
    "\n",
    "info = \"use taichi\" if use_taichi else \"use python\"\n",
    "start = time.perf_counter()\n",
    "print(f\"Number of primes: {count_primes(10000000)}\")\n",
    "print(f\"time elapsed {info}: {time.perf_counter() - start}/s\")"
   ]
  }
 ],
 "metadata": {
  "kernelspec": {
   "display_name": "Python 3 (ipykernel)",
   "language": "python",
   "name": "python3"
  },
  "language_info": {
   "codemirror_mode": {
    "name": "ipython",
    "version": 3
   },
   "file_extension": ".py",
   "mimetype": "text/x-python",
   "name": "python",
   "nbconvert_exporter": "python",
   "pygments_lexer": "ipython3",
   "version": "3.8.10"
  }
 },
 "nbformat": 4,
 "nbformat_minor": 5
}
