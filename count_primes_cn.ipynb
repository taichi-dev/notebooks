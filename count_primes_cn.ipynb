{
 "cells": [
  {
   "cell_type": "markdown",
   "id": "51b3b00e",
   "metadata": {},
   "source": [
    "# 计算素数个数"
   ]
  },
  {
   "cell_type": "markdown",
   "id": "cbb69aad",
   "metadata": {},
   "source": [
    "我们做一个小实验：计算小于给定正整数 $N$ 的素数的个数。我们用一个函数 `is_prime` 来判断某个正整数 $n$ 是不是素数，是素数则返回 1，不是则返回 0。这只要遍历检查从 2 到 $\\sqrt{n}$ 之间是否有整数能够整除 $n$ 即可。然后将小于 $n$ 的全部整数依次代入此函数并统计结果。"
   ]
  },
  {
   "cell_type": "code",
   "execution_count": null,
   "id": "9ca5abe6",
   "metadata": {},
   "outputs": [],
   "source": [
    "import time\n",
    "\n",
    "N = 1000000\n",
    "\n",
    "def is_prime(n: int):\n",
    "    result = True\n",
    "    for k in range(2, int(n**0.5) + 1):\n",
    "        if n % k == 0:\n",
    "            result = False\n",
    "            break\n",
    "    return result\n",
    "\n",
    "def count_primes(n: int) -> int:\n",
    "    count = 0\n",
    "    for k in range(2, n):\n",
    "        if is_prime(k):\n",
    "            count += 1\n",
    "\n",
    "    return count\n",
    "\n",
    "start = time.perf_counter()\n",
    "print(f\"Number of primes: {count_primes(N)}\")\n",
    "print(f\"time elapsed: {time.perf_counter() - start}/s\")"
   ]
  },
  {
   "cell_type": "markdown",
   "id": "9b7dbe43",
   "metadata": {},
   "source": [
    "然后我们引入 `taichi`，分别给 `is_prime` 函数和 `count_primts` 函数加上一个装饰器，再比较下耗时："
   ]
  },
  {
   "cell_type": "code",
   "execution_count": null,
   "id": "83062572",
   "metadata": {},
   "outputs": [],
   "source": [
    "import taichi as ti\n",
    "ti.init(arch=ti.cpu)\n",
    "\n",
    "@ti.func\n",
    "def is_prime(n: int):\n",
    "    result = True\n",
    "    for k in range(2, int(n**0.5) + 1):\n",
    "        if n % k == 0:\n",
    "            result = False\n",
    "            break\n",
    "    return result\n",
    "\n",
    "@ti.kernel\n",
    "def count_primes(n: int) -> int:\n",
    "    count = 0\n",
    "    for k in range(2, n):\n",
    "        if is_prime(k):\n",
    "            count += 1\n",
    "\n",
    "    return count\n",
    "\n",
    "start = time.perf_counter()\n",
    "print(f\"Number of primes: {count_primes(N)}\")\n",
    "print(f\"time elapsed: {time.perf_counter() - start}/s\")"
   ]
  },
  {
   "cell_type": "markdown",
   "id": "4ba9bb07",
   "metadata": {},
   "source": [
    "$N$ 等于一百万时 Taichi 的加速效果也许看起来没有那么惊人，这是因为在 binder 的服务器上 CPU 的多线程并行是受到限制的。我们建议你把此 notebook 下载到本地，然后试试把 $N$ 改成一千万，看看加速效果如何？"
   ]
  }
 ],
 "metadata": {
  "kernelspec": {
   "display_name": "Python 3 (ipykernel)",
   "language": "python",
   "name": "python3"
  },
  "language_info": {
   "codemirror_mode": {
    "name": "ipython",
    "version": 3
   },
   "file_extension": ".py",
   "mimetype": "text/x-python",
   "name": "python",
   "nbconvert_exporter": "python",
   "pygments_lexer": "ipython3",
   "version": "3.8.10"
  }
 },
 "nbformat": 4,
 "nbformat_minor": 5
}
