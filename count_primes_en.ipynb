{
 "cells": [
  {
   "cell_type": "markdown",
   "id": "51b3b00e",
   "metadata": {},
   "source": [
    "# Count primes below a given bound"
   ]
  },
  {
   "cell_type": "markdown",
   "id": "949d8f2b",
   "metadata": {},
   "source": [
    "Here is a toy example that shows how fast Taichi can acclerate your Python program. We will count the number of primes below a given integer $N$. We will use a function `is_prime` to check whether a given positive integer $n$ is a prime or not, and return the result as 1 or 0 accordingly. The function `is_prime` simply checks if there is an integer in the range $[2, \\sqrt{n}]$ that divides $n$. Then we collect the results of `is_prime(n)` for all $n<N$ and print the result. "
   ]
  },
  {
   "cell_type": "code",
   "execution_count": null,
   "id": "9ca5abe6",
   "metadata": {},
   "outputs": [],
   "source": [
    "import time\n",
    "\n",
    "N = 1000000\n",
    "\n",
    "def is_prime(n: int):\n",
    "    result = True\n",
    "    for k in range(2, int(n**0.5) + 1):\n",
    "        if n % k == 0:\n",
    "            result = False\n",
    "            break\n",
    "    return result\n",
    "\n",
    "def count_primes(n: int) -> int:\n",
    "    count = 0\n",
    "    for k in range(2, n):\n",
    "        if is_prime(k):\n",
    "            count += 1\n",
    "\n",
    "    return count\n",
    "\n",
    "start = time.perf_counter()\n",
    "print(f\"Number of primes: {count_primes(N)}\")\n",
    "print(f\"time elapsed: {time.perf_counter() - start}/s\")"
   ]
  },
  {
   "cell_type": "markdown",
   "id": "9b7dbe43",
   "metadata": {},
   "source": [
    "Now we import Taichi and add two decorators for each of the two functions `is_prime` and `count_primts`, and compare the time cost:"
   ]
  },
  {
   "cell_type": "code",
   "execution_count": null,
   "id": "83062572",
   "metadata": {},
   "outputs": [],
   "source": [
    "import taichi as ti\n",
    "ti.init(arch=ti.cpu)\n",
    "\n",
    "@ti.func\n",
    "def is_prime(n: int):\n",
    "    result = True\n",
    "    for k in range(2, int(n**0.5) + 1):\n",
    "        if n % k == 0:\n",
    "            result = False\n",
    "            break\n",
    "    return result\n",
    "\n",
    "@ti.kernel\n",
    "def count_primes(n: int) -> int:\n",
    "    count = 0\n",
    "    for k in range(2, n):\n",
    "        if is_prime(k):\n",
    "            count += 1\n",
    "\n",
    "    return count\n",
    "\n",
    "start = time.perf_counter()\n",
    "print(f\"Number of primes: {count_primes(N)}\")\n",
    "print(f\"time elapsed: {time.perf_counter() - start}/s\")"
   ]
  },
  {
   "cell_type": "markdown",
   "id": "4ba9bb07",
   "metadata": {},
   "source": [
    "The speed up shown above may not be too surprising for $N$ equals one million, this is because the number of CPU threads is restricted on binder. We sugget you download this notebook and try it on your own machine. How much faster will Taichi accelerate if $N$ is 10 millions?"
   ]
  }
 ],
 "metadata": {
  "kernelspec": {
   "display_name": "Python 3 (ipykernel)",
   "language": "python",
   "name": "python3"
  },
  "language_info": {
   "codemirror_mode": {
    "name": "ipython",
    "version": 3
   },
   "file_extension": ".py",
   "mimetype": "text/x-python",
   "name": "python",
   "nbconvert_exporter": "python",
   "pygments_lexer": "ipython3",
   "version": "3.8.10"
  }
 },
 "nbformat": 4,
 "nbformat_minor": 5
}
